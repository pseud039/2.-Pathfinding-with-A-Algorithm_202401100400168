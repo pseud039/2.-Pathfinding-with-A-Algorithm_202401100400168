{
  "nbformat": 4,
  "nbformat_minor": 0,
  "metadata": {
    "colab": {
      "provenance": []
    },
    "kernelspec": {
      "name": "python3",
      "display_name": "Python 3"
    },
    "language_info": {
      "name": "python"
    }
  },
  "cells": [
    {
      "cell_type": "code",
      "execution_count": 1,
      "metadata": {
        "colab": {
          "base_uri": "https://localhost:8080/"
        },
        "id": "ZeQ0rje8NpRZ",
        "outputId": "bfb9e893-d902-4c25-b207-f7d566059c3e"
      },
      "outputs": [
        {
          "output_type": "stream",
          "name": "stdout",
          "text": [
            "Path: [(0, 0), (1, 0), (2, 0), (2, 1), (2, 2), (3, 2), (4, 2), (4, 3), (4, 4)]\n"
          ]
        }
      ],
      "source": [
        "import heapq  # Importing heap queue for priority queue operations\n",
        "\n",
        "class Node:\n",
        "    \"\"\"Class representing a node in the A* algorithm.\"\"\"\n",
        "\n",
        "    def __init__(self, position, parent=None):\n",
        "        \"\"\"\n",
        "        Initializes a node.\n",
        "        :param position: Tuple (x, y) representing node coordinates.\n",
        "        :param parent: Reference to parent node (used to reconstruct the path).\n",
        "        \"\"\"\n",
        "        self.position = position  # Node's position (x, y)\n",
        "        self.parent = parent  # Pointer to parent node for path reconstruction\n",
        "        self.g = 0  # Cost from start node to this node\n",
        "        self.h = 0  # Estimated cost from this node to goal (heuristic)\n",
        "        self.f = 0  # Total cost (g + h)\n",
        "\n",
        "    def __lt__(self, other):\n",
        "        \"\"\"Defines priority comparison for heapq (lower f-value is preferred).\"\"\"\n",
        "        return self.f < other.f\n",
        "\n",
        "def astar(grid, start, goal):\n",
        "    \"\"\"\n",
        "    Implements A* algorithm for pathfinding.\n",
        "    :param grid: 2D list representing the map (0 = walkable, 1 = obstacle).\n",
        "    :param start: Tuple (x, y) representing start position.\n",
        "    :param goal: Tuple (x, y) representing goal position.\n",
        "    :return: List of tuples representing the shortest path.\n",
        "    \"\"\"\n",
        "\n",
        "    # Priority queue (min-heap) to store open nodes\n",
        "    open_list = []\n",
        "    closed_set = set()  # Set to store visited nodes\n",
        "\n",
        "    # Initialize start and goal nodes\n",
        "    start_node = Node(start)\n",
        "    goal_node = Node(goal)\n",
        "\n",
        "    # Push start node into the open list\n",
        "    heapq.heappush(open_list, start_node)\n",
        "\n",
        "    while open_list:\n",
        "        # Get the node with the lowest f-value from the priority queue\n",
        "        current_node = heapq.heappop(open_list)\n",
        "        closed_set.add(current_node.position)  # Mark node as visited\n",
        "\n",
        "        # If we reached the goal, reconstruct and return the path\n",
        "        if current_node.position == goal:\n",
        "            path = []\n",
        "            while current_node:\n",
        "                path.append(current_node.position)  # Backtrack from goal to start\n",
        "                current_node = current_node.parent\n",
        "            return path[::-1]  # Reverse the path to get correct order\n",
        "\n",
        "        # Define movement directions (Up, Down, Left, Right)\n",
        "        neighbors = [(0, 1), (0, -1), (1, 0), (-1, 0)]\n",
        "\n",
        "        for dx, dy in neighbors:\n",
        "            neighbor_pos = (current_node.position[0] + dx, current_node.position[1] + dy)\n",
        "\n",
        "            # Check if neighbor is within grid bounds and walkable\n",
        "            if (0 <= neighbor_pos[0] < len(grid) and\n",
        "                0 <= neighbor_pos[1] < len(grid[0]) and\n",
        "                grid[neighbor_pos[0]][neighbor_pos[1]] == 0 and\n",
        "                neighbor_pos not in closed_set):\n",
        "\n",
        "                # Create neighbor node\n",
        "                neighbor_node = Node(neighbor_pos, current_node)\n",
        "                neighbor_node.g = current_node.g + 1  # Cost from start node\n",
        "                neighbor_node.h = abs(neighbor_pos[0] - goal[0]) + abs(neighbor_pos[1] - goal[1])  # Manhattan heuristic\n",
        "                neighbor_node.f = neighbor_node.g + neighbor_node.h  # Total cost\n",
        "\n",
        "                # Check if a better path exists in the open list\n",
        "                if any(n for n in open_list if n.position == neighbor_pos and n.g <= neighbor_node.g):\n",
        "                    continue\n",
        "\n",
        "                heapq.heappush(open_list, neighbor_node)  # Push neighbor to the open list\n",
        "\n",
        "    return None  # No path found\n",
        "\n",
        "# Example grid (0 = walkable, 1 = obstacle)\n",
        "grid = [\n",
        "    [0, 1, 0, 0, 0],\n",
        "    [0, 1, 0, 1, 0],\n",
        "    [0, 0, 0, 1, 0],\n",
        "    [1, 1, 0, 1, 0],\n",
        "    [0, 0, 0, 0, 0]\n",
        "]\n",
        "\n",
        "# Start and goal positions\n",
        "start = (0, 0)\n",
        "goal = (4, 4)\n",
        "\n",
        "# Run A* algorithm\n",
        "path = astar(grid, start, goal)\n",
        "\n",
        "# Print the path found\n",
        "print(\"Path:\", path)\n"
      ]
    }
  ]
}